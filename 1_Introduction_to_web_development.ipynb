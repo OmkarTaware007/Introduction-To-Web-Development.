{
  "nbformat": 4,
  "nbformat_minor": 0,
  "metadata": {
    "colab": {
      "provenance": []
    },
    "kernelspec": {
      "name": "python3",
      "display_name": "Python 3"
    },
    "language_info": {
      "name": "python"
    }
  },
  "cells": [
    {
      "cell_type": "markdown",
      "source": [
        "# Introduction to web development"
      ],
      "metadata": {
        "id": "2pGalPF0Kxl2"
      }
    },
    {
      "cell_type": "markdown",
      "source": [
        "1. Explain the main components of client-server architecture and their functions.\n",
        "   - Main components of client-server architecture are as follows :-  \n",
        "      1. Client - It is an device or application that requests services from the server.\n",
        "      2. Server - It is a powerfull machine or application that provides services or resources to the client, it process client request and performs necessary operations and sends back the approprate responses.\n",
        "      3. Network - The network facilitates communication between client & servers, it enables data exchange and reliable connectivity.\n",
        "      4. Middleware - It is a software that acts as intermidary between client & server\n",
        "      5. Database - It is a structured collection of data stored on the servers.\n",
        "\n",
        "\n",
        "2. Discuss the various career paths available after completing a web development course.\n",
        "    - There are various carrier paths after becoming a web developer some of them are as follows :-  \n",
        "       1. Full-Stack Developer\n",
        "       2. Front-End Developer\n",
        "       3. Back-End Developer\n",
        "       4. DevOps Engineer\n",
        "       5. Cloud Developer\n",
        "       \n",
        "\n",
        "3. Describe the role of a web browser's developer tools in web development.\n",
        "   - Every web-developer needs some basic set of tools for understanding the underlying structure of the code and enables us to inspect the web content. Developer tools are built directly into the browser. These are the tools that are browser dependent. Most of these tools are common among various browsers and do a range of things, from inspecting elements of a currently-loaded HTML, CSS, and JavaScript. With developer tools, we can directly interact with the source code that is fetched into the client side of our system.\n",
        "\n",
        "4. What are the advantages of using a Version Control System like Git in a development project.\n",
        "    - Git is the most widely used Distributed Version Control System, developed by Linus Torvalds in 2005 for managing the Linux kernel. It is highly efficient, supports branching and merging, and has a fast, decentralized workflow. Git is the backbone of services like GitHub, GitLab, and Bitbucket, making it a popular choice for developers worldwide.\n",
        "\n",
        "    Key Features of Git :-  \n",
        "       1. Lightweight, fast, and efficient.\n",
        "       2. Branching and merging are simple and non-destructive.\n",
        "       3. Provides powerful commands like git clone, git pull, and git push.   \n",
        "\n",
        "\n",
        "5. Compare and contrast a text editor and an IDE, highlighting their key features and uses.\n",
        "\n",
        "\n",
        " - Following are the key features of IDE    \n",
        "\n",
        "        - IDE :-   \n",
        "       1. Comprehensive suite for all software development.    \n",
        "       2. Generally slower and more resource intensive.\n",
        "       3. Includes essential tools but limited coustomizability.\n",
        "       4. Advance integrated debbuing & error checking tools.\n",
        "       5. Can be Overwhelming , requires time to learn features.\n",
        "\n",
        " - Following are the key features of  CODE EDITOR :-  \n",
        "\n",
        "        - CODE EDITOR :-  \n",
        "       1. Simple code editing.\n",
        "       2. Lightweight & fast.\n",
        "       3. Higly customizable with plugins and extensions.\n",
        "       4. Basics or no debugging capabilities.\n",
        "       5. Easy to start due to simplicity.   \n",
        "\n",
        "\n",
        "\n"
      ],
      "metadata": {
        "id": "1CHRV6ZkK5Em"
      }
    }
  ]
}